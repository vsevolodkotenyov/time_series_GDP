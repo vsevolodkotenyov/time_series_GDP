{
 "cells": [
  {
   "cell_type": "markdown",
   "id": "35806c54",
   "metadata": {},
   "source": [
    "<hr> "
   ]
  },
  {
   "cell_type": "markdown",
   "id": "6c927c28",
   "metadata": {},
   "source": [
    "## Анализ временных рядов: объем потребления и ВВП Австрии 1970-2020 гг. "
   ]
  },
  {
   "cell_type": "markdown",
   "id": "f75ba419",
   "metadata": {},
   "source": [
    "Всеволод Котенёв, Санкт-Петербургский государственный университет"
   ]
  },
  {
   "cell_type": "markdown",
   "id": "30dc8a48",
   "metadata": {},
   "source": [
    "### Подготовка. Мотивировка работы, импорт нужного функционала"
   ]
  },
  {
   "cell_type": "markdown",
   "id": "2edf8a7b",
   "metadata": {},
   "source": [
    "На сегодняшний момент моделирование национального благосостояния и экономического роста не перестает быть актуальной темой исследований с применением математических методов. Приведем формулу ВВП по методу расходов - ключевого валового показателя благосостояния экономики: "
   ]
  },
  {
   "cell_type": "markdown",
   "id": "ffdb223c",
   "metadata": {},
   "source": [
    "$GDP = C + I + G + NX (exp - imp)$"
   ]
  },
  {
   "cell_type": "markdown",
   "id": "705b90e0",
   "metadata": {},
   "source": [
    "Чаще всего врвменная динамика ВВП и его компонент представляет собой нестационарные данные. По этой причине исследователи выделяют модели коинтеграции и коррекции ошибок для того, чтобы более детально исследовать взаимосвязи. <br><br>Для проведения работы были выгружены данные Всемирного банка по ВВП и потреблению в Австрии с 1970 по 2020 год (50 лет). \n",
    "<br><br>\n",
    "#### В рамках данного проекта были выдвинуты следующие предположения:\n",
    "<br> **Гипотеза 1**. Ряды ВВП и потребления - первого порядка интегрируемости, то есть разностно-стационарные (DS) \n",
    "<br><br> **Гипотеза 2**. Между рядами ВВП и потребеления возможны модели коинтеграции и коррекции ошибок как в *простой* (линейной) форме (ECM), так и *векторной* форме (VECM). Для векторной формы коинтеграции возможно как минимум одно коинтеграционное соотношение и как минимум один *статистически значимый коэффициент корректировки* (ЕС)\n",
    "<br><br> **Гипотеза 3**. Как миниму для одного из рядов возможен подбор модели ARIMA (p,d,q)\n",
    "<br><br> **Гипотеза 4**. Для модели, упомнятой в Гипотезе 3, возможен ARCH-эффект и моделирование GARCH"
   ]
  },
  {
   "cell_type": "markdown",
   "id": "0517903b",
   "metadata": {},
   "source": [
    "<hr>"
   ]
  },
  {
   "cell_type": "markdown",
   "id": "941f32d1",
   "metadata": {},
   "source": [
    "Импорт необходимых библиотек для **структурирования, препарирования и визуализации данных**\n",
    "<br>\n",
    "<br> A. **NumPy** - библиотека для представления данных в многомернях массивах \n",
    "<br> B. **Pandas** - 'Panel Data' - библиотека для представления данных в таблицах и их препарирования \n",
    "<br> C. **Matplotlib & Seaborn** - библиотеки для визуализации данных в виде графиков, диаграмм и прочего. \n",
    "<br> D. **Statsmodels** - библиотека для построения регрессионных моделей, моделей на _временных рядах_, проведения статистических тестов\n",
    "<br> E. **Sci-Kit Learn**  - библиотека для построения предсказательных моделей (регрессия, модели с дискретной зависимой переменной, прочее). \n",
    "<br> F. **ARCH** - библиотека для проверки ARCH-эффекта и построения GARCH-моделей "
   ]
  },
  {
   "cell_type": "code",
   "execution_count": 5,
   "id": "35411e66",
   "metadata": {},
   "outputs": [],
   "source": [
    "import warnings\n",
    "warnings.simplefilter(action='ignore', category=FutureWarning)"
   ]
  },
  {
   "cell_type": "code",
   "execution_count": 6,
   "id": "e2f32744",
   "metadata": {},
   "outputs": [],
   "source": [
    "import pandas as pd\n",
    "import numpy as np \n",
    "import matplotlib.pyplot as plt \n",
    "import seaborn as sns\n",
    "from sklearn.linear_model import LinearRegression\n",
    "import statsmodels.api as sm \n",
    "import statsmodels.tsa.api as timeseries \n",
    "# Взятие разницы = pd.DataFrame.diff() или pd.Series.diff()"
   ]
  },
  {
   "cell_type": "markdown",
   "id": "cf8b31c7",
   "metadata": {},
   "source": [
    "#### Функционал тестов на единичные корни, а также диагностики ARCH-эффекта и построения ARCH/GARCH"
   ]
  },
  {
   "cell_type": "code",
   "execution_count": 7,
   "id": "95c267c5",
   "metadata": {},
   "outputs": [],
   "source": [
    "from arch.unitroot import ADF, KPSS, DFGLS\n",
    "from arch import arch_model\n",
    "# sm.stats.diagnostic.het_arch\n",
    "# Также могут быть полезны другие функции для проведения тестов на ЕК, но из библиотеки Statsmodels \n",
    "# timeseries.stattools.adfuller()\n",
    "# timseries.stattools.kpss()"
   ]
  },
  {
   "cell_type": "markdown",
   "id": "ec6b637e",
   "metadata": {},
   "source": [
    "#### Функционал построения ACF, PACF,  ARIMA (p,d,q)"
   ]
  },
  {
   "cell_type": "code",
   "execution_count": 8,
   "id": "dd2185c2",
   "metadata": {},
   "outputs": [],
   "source": [
    "# timeseries.stattools.acf\n",
    "# timeseries.stattools.pacf\n",
    "\n",
    "# timeseries.stattols.q_stat\n",
    "# sm.stats.acorr_ljungbox(return_df = True)\n",
    "\n",
    "# timseries stattools.breakvar_heteroskedasticity_test\n",
    "\n",
    "# timeseries.ARIMA\n",
    "# timeseries.ARMA "
   ]
  },
  {
   "cell_type": "markdown",
   "id": "b82c8220",
   "metadata": {},
   "source": [
    "#### Функционал **теста на причинность по Грейнджеру**"
   ]
  },
  {
   "cell_type": "code",
   "execution_count": 9,
   "id": "1dfb3c42",
   "metadata": {},
   "outputs": [],
   "source": [
    "# timeseries.stattools.grangercausalitytests()"
   ]
  },
  {
   "cell_type": "markdown",
   "id": "58777771",
   "metadata": {},
   "source": [
    "#### Функционал VAR, VECM, теста Йохансена на число коинт.соотношений"
   ]
  },
  {
   "cell_type": "code",
   "execution_count": 10,
   "id": "0ffd8cc5",
   "metadata": {},
   "outputs": [],
   "source": [
    "from statsmodels.tsa.vector_ar.vecm import coint_johansen, select_coint_rank\n",
    "# timeseries.VAR()\n",
    "# timeseries.VECM()"
   ]
  },
  {
   "cell_type": "markdown",
   "id": "a7faa6ab",
   "metadata": {},
   "source": [
    "<hr>"
   ]
  },
  {
   "cell_type": "markdown",
   "id": "97288f71",
   "metadata": {},
   "source": [
    "# Описание данных"
   ]
  },
  {
   "cell_type": "code",
   "execution_count": 11,
   "id": "c22995da",
   "metadata": {},
   "outputs": [],
   "source": [
    "df_cons = pd.read_csv('cons.csv')\n",
    "df_gdp = pd.read_csv('gdp.csv')"
   ]
  },
  {
   "cell_type": "code",
   "execution_count": 12,
   "id": "e42ac0d3",
   "metadata": {},
   "outputs": [],
   "source": [
    "cons_AUS = df_cons.loc[df_cons['Country Name'] == 'Austria', '1970':'2020'].transpose().reset_index()\n",
    "gdp_AUS = df_gdp.loc[df_cons['Country Name'] == 'Austria', '1970':'2020'].transpose().reset_index()"
   ]
  },
  {
   "cell_type": "code",
   "execution_count": 13,
   "id": "d7b46206",
   "metadata": {},
   "outputs": [
    {
     "data": {
      "text/html": [
       "<div>\n",
       "<style scoped>\n",
       "    .dataframe tbody tr th:only-of-type {\n",
       "        vertical-align: middle;\n",
       "    }\n",
       "\n",
       "    .dataframe tbody tr th {\n",
       "        vertical-align: top;\n",
       "    }\n",
       "\n",
       "    .dataframe thead th {\n",
       "        text-align: right;\n",
       "    }\n",
       "</style>\n",
       "<table border=\"1\" class=\"dataframe\">\n",
       "  <thead>\n",
       "    <tr style=\"text-align: right;\">\n",
       "      <th></th>\n",
       "      <th>year</th>\n",
       "      <th>consumption</th>\n",
       "      <th>GDP</th>\n",
       "    </tr>\n",
       "  </thead>\n",
       "  <tbody>\n",
       "    <tr>\n",
       "      <th>46</th>\n",
       "      <td>2016</td>\n",
       "      <td>2.844651e+11</td>\n",
       "      <td>3.955686e+11</td>\n",
       "    </tr>\n",
       "    <tr>\n",
       "      <th>47</th>\n",
       "      <td>2017</td>\n",
       "      <td>2.996405e+11</td>\n",
       "      <td>4.162073e+11</td>\n",
       "    </tr>\n",
       "    <tr>\n",
       "      <th>48</th>\n",
       "      <td>2018</td>\n",
       "      <td>3.241125e+11</td>\n",
       "      <td>4.548726e+11</td>\n",
       "    </tr>\n",
       "    <tr>\n",
       "      <th>49</th>\n",
       "      <td>2019</td>\n",
       "      <td>3.166583e+11</td>\n",
       "      <td>4.450754e+11</td>\n",
       "    </tr>\n",
       "    <tr>\n",
       "      <th>50</th>\n",
       "      <td>2020</td>\n",
       "      <td>3.074606e+11</td>\n",
       "      <td>4.309474e+11</td>\n",
       "    </tr>\n",
       "  </tbody>\n",
       "</table>\n",
       "</div>"
      ],
      "text/plain": [
       "    year   consumption           GDP\n",
       "46  2016  2.844651e+11  3.955686e+11\n",
       "47  2017  2.996405e+11  4.162073e+11\n",
       "48  2018  3.241125e+11  4.548726e+11\n",
       "49  2019  3.166583e+11  4.450754e+11\n",
       "50  2020  3.074606e+11  4.309474e+11"
      ]
     },
     "execution_count": 13,
     "metadata": {},
     "output_type": "execute_result"
    }
   ],
   "source": [
    "final_AUS = cons_AUS.merge(gdp_AUS, how = 'inner', on = 'index')\n",
    "final_AUS.columns = ['year', 'consumption', 'GDP'] \n",
    "final_AUS.tail()"
   ]
  },
  {
   "cell_type": "code",
   "execution_count": 14,
   "id": "e07a8cbd",
   "metadata": {},
   "outputs": [
    {
     "data": {
      "image/png": "[encoded data removed]",
      "text/plain": [
       "<Figure size 1224x720 with 1 Axes>"
      ]
     },
     "metadata": {
      "needs_background": "light"
     },
     "output_type": "display_data"
    }
   ],
   "source": [
    "fig, ax = plt.subplots(figsize = (17, 10))\n",
    "for col in final_AUS.columns[1:]: \n",
    "    sns.lineplot(ax = ax, \n",
    "                 x = final_AUS.year, \n",
    "                 y = final_AUS[col], \n",
    "                 label = col)\n",
    "ax.legend()\n",
    "ax.set_title('GPD & Consumption in Austria, 1970 - 2020 | ВВП и потребление в Австрии, 1970-2020, Всемирный банк'.upper(), size = 20, pad = 25)\n",
    "plt.xticks(rotation = 80)\n",
    "plt.show()"
   ]
  },
  {
   "cell_type": "markdown",
   "id": "790b966a",
   "metadata": {},
   "source": [
    "<hr>"
   ]
  },
  {
   "cell_type": "markdown",
   "id": "a60ca046",
   "metadata": {},
   "source": [
    "# Задача 1. Тесты на единичные корни и проверка порядка интегрируемости рядов"
   ]
  },
  {
   "cell_type": "markdown",
   "id": "12bfb01f",
   "metadata": {},
   "source": [
    "###  Ряд Consumption - валовый объем потребления"
   ]
  },
  {
   "cell_type": "code",
   "execution_count": 15,
   "id": "8ef5798e",
   "metadata": {},
   "outputs": [],
   "source": [
    "# Расширенный тест Дики-Фуллера: без константы и тренда, с константой, с константой и трендом\n",
    "test_results = []\n",
    "for trend_type in ['n', 'c', 'ct']: \n",
    "    test_results.append(ADF(final_AUS.consumption, trend = trend_type))"
   ]
  },
  {
   "cell_type": "markdown",
   "id": "7af7ae15",
   "metadata": {},
   "source": [
    "#### ПОЯСНЕНИЕ: как функционал Python проводит ADF-тест?\n",
    "В библиотеке ARCH, которая используется для проведения тестов на единичные корни, уже встроен функционал по *отбору лагов для включения в ADF-уравнение на основе критериев AIC и BIC*. Более того, функция сама корректирует модель, если находит в ее остатках автокрреляцию, поэтому результаты теста надёжны. "
   ]
  },
  {
   "cell_type": "markdown",
   "id": "8c7583e0",
   "metadata": {},
   "source": [
    "<hr>"
   ]
  },
  {
   "cell_type": "markdown",
   "id": "d08adbc6",
   "metadata": {},
   "source": [
    "### Модификация 1: тестовое ADF-уравнение без включения константы и тренда"
   ]
  },
  {
   "cell_type": "code",
   "execution_count": 16,
   "id": "c6e836ef",
   "metadata": {},
   "outputs": [
    {
     "name": "stdout",
     "output_type": "stream",
     "text": [
      "                                 OLS Regression Results                                \n",
      "=======================================================================================\n",
      "Dep. Variable:                      y   R-squared (uncentered):                   0.075\n",
      "Model:                            OLS   Adj. R-squared (uncentered):              0.056\n",
      "Method:                 Least Squares   F-statistic:                              3.977\n",
      "Date:                Mon, 27 Dec 2021   Prob (F-statistic):                      0.0517\n",
      "Time:                        22:17:42   Log-Likelihood:                         -1243.6\n",
      "No. Observations:                  50   AIC:                                      2489.\n",
      "Df Residuals:                      49   BIC:                                      2491.\n",
      "Df Model:                           1                                                  \n",
      "Covariance Type:            nonrobust                                                  \n",
      "==============================================================================\n",
      "                 coef    std err          t      P>|t|      [0.025      0.975]\n",
      "------------------------------------------------------------------------------\n",
      "Level.L1       0.0233      0.012      1.994      0.052      -0.000       0.047\n",
      "==============================================================================\n",
      "Omnibus:                       13.578   Durbin-Watson:                   1.675\n",
      "Prob(Omnibus):                  0.001   Jarque-Bera (JB):               18.698\n",
      "Skew:                          -0.887   Prob(JB):                     8.70e-05\n",
      "Kurtosis:                       5.414   Cond. No.                         1.00\n",
      "==============================================================================\n",
      "\n",
      "Notes:\n",
      "[1] R² is computed without centering (uncentered) since the model does not contain a constant.\n",
      "[2] Standard Errors assume that the covariance matrix of the errors is correctly specified.\n"
     ]
    }
   ],
   "source": [
    "print(test_results[0].regression.summary())"
   ]
  },
  {
   "cell_type": "markdown",
   "id": "311e78ad",
   "metadata": {},
   "source": [
    "#### Сокращенный результат:"
   ]
  },
  {
   "cell_type": "code",
   "execution_count": 17,
   "id": "7f32722a",
   "metadata": {
    "scrolled": true
   },
   "outputs": [
    {
     "name": "stdout",
     "output_type": "stream",
     "text": [
      "   Augmented Dickey-Fuller Results   \n",
      "=====================================\n",
      "Test Statistic                  1.994\n",
      "P-value                         0.990\n",
      "Lags                                0\n",
      "-------------------------------------\n",
      "\n",
      "Trend: No Trend\n",
      "Critical Values: -2.61 (1%), -1.95 (5%), -1.61 (10%)\n",
      "Null Hypothesis: The process contains a unit root.\n",
      "Alternative Hypothesis: The process is weakly stationary.\n"
     ]
    }
   ],
   "source": [
    "print(test_results[0].summary())"
   ]
  },
  {
   "cell_type": "markdown",
   "id": "73997c20",
   "metadata": {},
   "source": [
    "### Вывод: р-значение принятия нулевой гипотезы 99%, принимается Н(0) о DS-характере ряда. Т.о., ряд нестационарный. "
   ]
  },
  {
   "cell_type": "markdown",
   "id": "d0593dba",
   "metadata": {},
   "source": [
    "<hr>"
   ]
  },
  {
   "cell_type": "markdown",
   "id": "c9bb4a96",
   "metadata": {},
   "source": [
    "### Модификация 2: тестовое ADF-уравнение с включением только константы"
   ]
  },
  {
   "cell_type": "code",
   "execution_count": 18,
   "id": "6fe56e10",
   "metadata": {
    "scrolled": false
   },
   "outputs": [
    {
     "name": "stdout",
     "output_type": "stream",
     "text": [
      "                            OLS Regression Results                            \n",
      "==============================================================================\n",
      "Dep. Variable:                      y   R-squared:                       0.005\n",
      "Model:                            OLS   Adj. R-squared:                 -0.016\n",
      "Method:                 Least Squares   F-statistic:                    0.2193\n",
      "Date:                Mon, 27 Dec 2021   Prob (F-statistic):              0.642\n",
      "Time:                        22:17:43   Log-Likelihood:                -1241.7\n",
      "No. Observations:                  50   AIC:                             2487.\n",
      "Df Residuals:                      48   BIC:                             2491.\n",
      "Df Model:                           1                                         \n",
      "Covariance Type:            nonrobust                                         \n",
      "==============================================================================\n",
      "                 coef    std err          t      P>|t|      [0.025      0.975]\n",
      "------------------------------------------------------------------------------\n",
      "Level.L1      -0.0095      0.020     -0.468      0.642      -0.051       0.031\n",
      "const       7.418e+09   3.82e+09      1.945      0.058   -2.52e+08    1.51e+10\n",
      "==============================================================================\n",
      "Omnibus:                        6.023   Durbin-Watson:                   1.749\n",
      "Prob(Omnibus):                  0.049   Jarque-Bera (JB):                6.326\n",
      "Skew:                          -0.411   Prob(JB):                       0.0423\n",
      "Kurtosis:                       4.537   Cond. No.                     3.35e+11\n",
      "==============================================================================\n",
      "\n",
      "Notes:\n",
      "[1] Standard Errors assume that the covariance matrix of the errors is correctly specified.\n",
      "[2] The condition number is large, 3.35e+11. This might indicate that there are\n",
      "strong multicollinearity or other numerical problems.\n"
     ]
    }
   ],
   "source": [
    "print(test_results[1].regression.summary())"
   ]
  },
  {
   "cell_type": "markdown",
   "id": "36513ec2",
   "metadata": {},
   "source": [
    "#### Сокращенный результат:"
   ]
  },
  {
   "cell_type": "code",
   "execution_count": 19,
   "id": "e2a91984",
   "metadata": {
    "scrolled": false
   },
   "outputs": [
    {
     "name": "stdout",
     "output_type": "stream",
     "text": [
      "   Augmented Dickey-Fuller Results   \n",
      "=====================================\n",
      "Test Statistic                 -0.468\n",
      "P-value                         0.898\n",
      "Lags                                0\n",
      "-------------------------------------\n",
      "\n",
      "Trend: Constant\n",
      "Critical Values: -3.57 (1%), -2.92 (5%), -2.60 (10%)\n",
      "Null Hypothesis: The process contains a unit root.\n",
      "Alternative Hypothesis: The process is weakly stationary.\n"
     ]
    }
   ],
   "source": [
    "print(test_results[1].summary())"
   ]
  },
  {
   "cell_type": "markdown",
   "id": "01fe693e",
   "metadata": {},
   "source": [
    "### Вывод: р-значение принятия нулевой гипотезы 89,8%, принимается Н(0) о DS-характере ряда. Т.о., ряд нестационарный. "
   ]
  },
  {
   "cell_type": "markdown",
   "id": "5bb460d6",
   "metadata": {},
   "source": [
    "<hr>"
   ]
  },
  {
   "cell_type": "markdown",
   "id": "3095148a",
   "metadata": {},
   "source": [
    "### Модификация 3: тестовое ADF-уравнение с включением константы и тренда"
   ]
  },
  {
   "cell_type": "code",
   "execution_count": 20,
   "id": "daa3376f",
   "metadata": {},
   "outputs": [
    {
     "name": "stdout",
     "output_type": "stream",
     "text": [
      "                            OLS Regression Results                            \n",
      "==============================================================================\n",
      "Dep. Variable:                      y   R-squared:                       0.342\n",
      "Model:                            OLS   Adj. R-squared:                  0.218\n",
      "Method:                 Least Squares   F-statistic:                     2.750\n",
      "Date:                Mon, 27 Dec 2021   Prob (F-statistic):             0.0210\n",
      "Time:                        22:17:43   Log-Likelihood:                -1110.5\n",
      "No. Observations:                  45   AIC:                             2237.\n",
      "Df Residuals:                      37   BIC:                             2251.\n",
      "Df Model:                           7                                         \n",
      "Covariance Type:            nonrobust                                         \n",
      "==============================================================================\n",
      "                 coef    std err          t      P>|t|      [0.025      0.975]\n",
      "------------------------------------------------------------------------------\n",
      "Level.L1      -0.4812      0.125     -3.862      0.000      -0.734      -0.229\n",
      "Diff.L1        0.3635      0.149      2.439      0.020       0.062       0.666\n",
      "Diff.L2     -2.39e-05      0.153     -0.000      1.000      -0.310       0.310\n",
      "Diff.L3        0.4092      0.157      2.602      0.013       0.091       0.728\n",
      "Diff.L4        0.2013      0.156      1.289      0.205      -0.115       0.518\n",
      "Diff.L5        0.3913      0.159      2.457      0.019       0.069       0.714\n",
      "const      -6.579e+08   4.83e+09     -0.136      0.892   -1.05e+10    9.13e+09\n",
      "trend       3.498e+09   9.26e+08      3.779      0.001    1.62e+09    5.37e+09\n",
      "==============================================================================\n",
      "Omnibus:                        0.416   Durbin-Watson:                   1.982\n",
      "Prob(Omnibus):                  0.812   Jarque-Bera (JB):                0.558\n",
      "Skew:                          -0.188   Prob(JB):                        0.757\n",
      "Kurtosis:                       2.605   Cond. No.                     4.62e+11\n",
      "==============================================================================\n",
      "\n",
      "Notes:\n",
      "[1] Standard Errors assume that the covariance matrix of the errors is correctly specified.\n",
      "[2] The condition number is large, 4.62e+11. This might indicate that there are\n",
      "strong multicollinearity or other numerical problems.\n"
     ]
    }
   ],
   "source": [
    "print(test_results[2].regression.summary())"
   ]
  },
  {
   "cell_type": "markdown",
   "id": "f9f52ac9",
   "metadata": {},
   "source": [
    "#### Сокращенный результат:"
   ]
  },
  {
   "cell_type": "code",
   "execution_count": 21,
   "id": "447e8ec0",
   "metadata": {
    "scrolled": true
   },
   "outputs": [
    {
     "name": "stdout",
     "output_type": "stream",
     "text": [
      "   Augmented Dickey-Fuller Results   \n",
      "=====================================\n",
      "Test Statistic                 -3.862\n",
      "P-value                         0.014\n",
      "Lags                                5\n",
      "-------------------------------------\n",
      "\n",
      "Trend: Constant and Linear Time Trend\n",
      "Critical Values: -4.18 (1%), -3.51 (5%), -3.19 (10%)\n",
      "Null Hypothesis: The process contains a unit root.\n",
      "Alternative Hypothesis: The process is weakly stationary.\n"
     ]
    }
   ],
   "source": [
    "print(test_results[2].summary())"
   ]
  },
  {
   "cell_type": "markdown",
   "id": "eba297a3",
   "metadata": {},
   "source": [
    "### ВЫВОД: р-значение принятия нулевой гипотезы 1,4%, принимается Н(1) о TS-характере ряда. Тренд во вспомогательной регрессии ADF статистически *значим*. Т.о., ряд нестационарный. "
   ]
  },
  {
   "cell_type": "markdown",
   "id": "3a4ce39f",
   "metadata": {},
   "source": [
    "<hr>"
   ]
  },
  {
   "cell_type": "markdown",
   "id": "af8c1f9c",
   "metadata": {},
   "source": [
    "###  Ряд DGP - ВВП"
   ]
  },
  {
   "cell_type": "code",
   "execution_count": 22,
   "id": "b8549735",
   "metadata": {},
   "outputs": [],
   "source": [
    "test_results_1 = []\n",
    "for trend_type in ['n', 'c', 'ct']: \n",
    "    test_results_1.append(ADF(final_AUS.GDP, trend = trend_type))"
   ]
  },
  {
   "cell_type": "markdown",
   "id": "da4aa952",
   "metadata": {},
   "source": [
    "### Модификация 1: тестовое ADF-уравнение без включения константы и тренда"
   ]
  },
  {
   "cell_type": "code",
   "execution_count": 23,
   "id": "582a8a9b",
   "metadata": {},
   "outputs": [
    {
     "name": "stdout",
     "output_type": "stream",
     "text": [
      "                                 OLS Regression Results                                \n",
      "=======================================================================================\n",
      "Dep. Variable:                      y   R-squared (uncentered):                   0.076\n",
      "Model:                            OLS   Adj. R-squared (uncentered):              0.058\n",
      "Method:                 Least Squares   F-statistic:                              4.058\n",
      "Date:                Mon, 27 Dec 2021   Prob (F-statistic):                      0.0495\n",
      "Time:                        22:17:43   Log-Likelihood:                         -1260.9\n",
      "No. Observations:                  50   AIC:                                      2524.\n",
      "Df Residuals:                      49   BIC:                                      2526.\n",
      "Df Model:                           1                                                  \n",
      "Covariance Type:            nonrobust                                                  \n",
      "==============================================================================\n",
      "                 coef    std err          t      P>|t|      [0.025      0.975]\n",
      "------------------------------------------------------------------------------\n",
      "Level.L1       0.0243      0.012      2.014      0.049    5.88e-05       0.048\n",
      "==============================================================================\n",
      "Omnibus:                        9.205   Durbin-Watson:                   1.716\n",
      "Prob(Omnibus):                  0.010   Jarque-Bera (JB):                9.607\n",
      "Skew:                          -0.726   Prob(JB):                      0.00820\n",
      "Kurtosis:                       4.581   Cond. No.                         1.00\n",
      "==============================================================================\n",
      "\n",
      "Notes:\n",
      "[1] R² is computed without centering (uncentered) since the model does not contain a constant.\n",
      "[2] Standard Errors assume that the covariance matrix of the errors is correctly specified.\n"
     ]
    }
   ],
   "source": [
    "print(test_results_1[0].regression.summary())"
   ]
  },
  {
   "cell_type": "markdown",
   "id": "b1b82c9a",
   "metadata": {},
   "source": [
    "#### Сокращенный результат:"
   ]
  },
  {
   "cell_type": "code",
   "execution_count": 24,
   "id": "ace02ede",
   "metadata": {
    "scrolled": true
   },
   "outputs": [
    {
     "name": "stdout",
     "output_type": "stream",
     "text": [
      "   Augmented Dickey-Fuller Results   \n",
      "=====================================\n",
      "Test Statistic                  2.014\n",
      "P-value                         0.991\n",
      "Lags                                0\n",
      "-------------------------------------\n",
      "\n",
      "Trend: No Trend\n",
      "Critical Values: -2.61 (1%), -1.95 (5%), -1.61 (10%)\n",
      "Null Hypothesis: The process contains a unit root.\n",
      "Alternative Hypothesis: The process is weakly stationary.\n"
     ]
    }
   ],
   "source": [
    "print(test_results_1[0].summary())"
   ]
  },
  {
   "cell_type": "markdown",
   "id": "36dcbb76",
   "metadata": {},
   "source": [
    "### ВЫВОД: р-значение принятия нулевой гипотезы 99,1%, принимается Н(0) о DS-характере ряда. Т.о., ряд нестационарный. "
   ]
  },
  {
   "cell_type": "markdown",
   "id": "466d9ce7",
   "metadata": {},
   "source": [
    "<hr>"
   ]
  },
  {
   "cell_type": "markdown",
   "id": "21b53d48",
   "metadata": {},
   "source": [
    "### Модификация 2: тестовое ADF-уравнение с включением константы"
   ]
  },
  {
   "cell_type": "code",
   "execution_count": 25,
   "id": "85f0fb1e",
   "metadata": {},
   "outputs": [
    {
     "name": "stdout",
     "output_type": "stream",
     "text": [
      "                            OLS Regression Results                            \n",
      "==============================================================================\n",
      "Dep. Variable:                      y   R-squared:                       0.003\n",
      "Model:                            OLS   Adj. R-squared:                 -0.018\n",
      "Method:                 Least Squares   F-statistic:                    0.1387\n",
      "Date:                Mon, 27 Dec 2021   Prob (F-statistic):              0.711\n",
      "Time:                        22:17:43   Log-Likelihood:                -1259.1\n",
      "No. Observations:                  50   AIC:                             2522.\n",
      "Df Residuals:                      48   BIC:                             2526.\n",
      "Df Model:                           1                                         \n",
      "Covariance Type:            nonrobust                                         \n",
      "==============================================================================\n",
      "                 coef    std err          t      P>|t|      [0.025      0.975]\n",
      "------------------------------------------------------------------------------\n",
      "Level.L1      -0.0078      0.021     -0.372      0.711      -0.050       0.034\n",
      "const        9.96e+09   5.36e+09      1.859      0.069   -8.14e+08    2.07e+10\n",
      "==============================================================================\n",
      "Omnibus:                        2.979   Durbin-Watson:                   1.781\n",
      "Prob(Omnibus):                  0.226   Jarque-Bera (JB):                2.163\n",
      "Skew:                          -0.230   Prob(JB):                        0.339\n",
      "Kurtosis:                       3.909   Cond. No.                     4.56e+11\n",
      "==============================================================================\n",
      "\n",
      "Notes:\n",
      "[1] Standard Errors assume that the covariance matrix of the errors is correctly specified.\n",
      "[2] The condition number is large, 4.56e+11. This might indicate that there are\n",
      "strong multicollinearity or other numerical problems.\n"
     ]
    }
   ],
   "source": [
    "print(test_results_1[1].regression.summary())"
   ]
  },
  {
   "cell_type": "markdown",
   "id": "68c3f86d",
   "metadata": {},
   "source": [
    "#### Сокращенный результат:"
   ]
  },
  {
   "cell_type": "code",
   "execution_count": 26,
   "id": "8578ed6d",
   "metadata": {
    "scrolled": false
   },
   "outputs": [
    {
     "name": "stdout",
     "output_type": "stream",
     "text": [
      "   Augmented Dickey-Fuller Results   \n",
      "=====================================\n",
      "Test Statistic                 -0.372\n",
      "P-value                         0.915\n",
      "Lags                                0\n",
      "-------------------------------------\n",
      "\n",
      "Trend: Constant\n",
      "Critical Values: -3.57 (1%), -2.92 (5%), -2.60 (10%)\n",
      "Null Hypothesis: The process contains a unit root.\n",
      "Alternative Hypothesis: The process is weakly stationary.\n"
     ]
    }
   ],
   "source": [
    "print(test_results_1[1].summary())"
   ]
  },
  {
   "cell_type": "markdown",
   "id": "989b12ce",
   "metadata": {},
   "source": [
    "### Вывод: р-значение принятия нулевой гипотезы 91,5%, принимается Н(0) о DS-характере ряда. Т.о., ряд нестационарный. "
   ]
  },
  {
   "cell_type": "markdown",
   "id": "2c88e234",
   "metadata": {},
   "source": [
    "### Модификация 3: тестовое ADF-уравнение с включением константы и линейного тренда"
   ]
  },
  {
   "cell_type": "code",
   "execution_count": 27,
   "id": "42b1ae70",
   "metadata": {},
   "outputs": [
    {
     "name": "stdout",
     "output_type": "stream",
     "text": [
      "                            OLS Regression Results                            \n",
      "==============================================================================\n",
      "Dep. Variable:                      y   R-squared:                       0.328\n",
      "Model:                            OLS   Adj. R-squared:                  0.201\n",
      "Method:                 Least Squares   F-statistic:                     2.580\n",
      "Date:                Mon, 27 Dec 2021   Prob (F-statistic):             0.0285\n",
      "Time:                        22:17:43   Log-Likelihood:                -1126.6\n",
      "No. Observations:                  45   AIC:                             2269.\n",
      "Df Residuals:                      37   BIC:                             2284.\n",
      "Df Model:                           7                                         \n",
      "Covariance Type:            nonrobust                                         \n",
      "==============================================================================\n",
      "                 coef    std err          t      P>|t|      [0.025      0.975]\n",
      "------------------------------------------------------------------------------\n",
      "Level.L1      -0.4439      0.124     -3.567      0.001      -0.696      -0.192\n",
      "Diff.L1        0.3480      0.152      2.283      0.028       0.039       0.657\n",
      "Diff.L2       -0.0706      0.157     -0.450      0.655      -0.388       0.247\n",
      "Diff.L3        0.4106      0.162      2.542      0.015       0.083       0.738\n",
      "Diff.L4        0.1588      0.158      1.004      0.322      -0.162       0.480\n",
      "Diff.L5        0.3384      0.161      2.101      0.043       0.012       0.665\n",
      "const      -1.437e+09   6.94e+09     -0.207      0.837   -1.55e+10    1.26e+10\n",
      "trend       4.495e+09   1.28e+09      3.512      0.001     1.9e+09    7.09e+09\n",
      "==============================================================================\n",
      "Omnibus:                        0.177   Durbin-Watson:                   1.984\n",
      "Prob(Omnibus):                  0.915   Jarque-Bera (JB):                0.385\n",
      "Skew:                          -0.023   Prob(JB):                        0.825\n",
      "Kurtosis:                       2.550   Cond. No.                     6.37e+11\n",
      "==============================================================================\n",
      "\n",
      "Notes:\n",
      "[1] Standard Errors assume that the covariance matrix of the errors is correctly specified.\n",
      "[2] The condition number is large, 6.37e+11. This might indicate that there are\n",
      "strong multicollinearity or other numerical problems.\n"
     ]
    }
   ],
   "source": [
    "print(test_results_1[2].regression.summary())"
   ]
  },
  {
   "cell_type": "markdown",
   "id": "3892a813",
   "metadata": {},
   "source": [
    "#### Сокращенный результат:"
   ]
  },
  {
   "cell_type": "code",
   "execution_count": 28,
   "id": "2789370d",
   "metadata": {
    "scrolled": false
   },
   "outputs": [
    {
     "name": "stdout",
     "output_type": "stream",
     "text": [
      "   Augmented Dickey-Fuller Results   \n",
      "=====================================\n",
      "Test Statistic                 -3.567\n",
      "P-value                         0.033\n",
      "Lags                                5\n",
      "-------------------------------------\n",
      "\n",
      "Trend: Constant and Linear Time Trend\n",
      "Critical Values: -4.18 (1%), -3.51 (5%), -3.19 (10%)\n",
      "Null Hypothesis: The process contains a unit root.\n",
      "Alternative Hypothesis: The process is weakly stationary.\n"
     ]
    }
   ],
   "source": [
    "print(test_results_1[2].summary())"
   ]
  },
  {
   "cell_type": "markdown",
   "id": "909c91f9",
   "metadata": {},
   "source": [
    "### ВЫВОД: р-значение принятия нулевой гипотезы 3,3%, принимается Н(1) о TS-характере ряда. Тренд во вспомогательной регрессии ADF статистически *значим*. Т.о., ряд нестационарный. "
   ]
  },
  {
   "cell_type": "markdown",
   "id": "a5c6c1c3",
   "metadata": {},
   "source": [
    "<hr>"
   ]
  },
  {
   "cell_type": "markdown",
   "id": "038ecc99",
   "metadata": {},
   "source": [
    "### Дополнительная проверка ряда CONSUMPTION с помощью ADF-GLS"
   ]
  },
  {
   "cell_type": "code",
   "execution_count": 29,
   "id": "2a85acb6",
   "metadata": {},
   "outputs": [],
   "source": [
    "# Доп проверка ADF-GLS для consumption\n",
    "df_gls_CONS = DFGLS(final_AUS.consumption, trend = 'c')"
   ]
  },
  {
   "cell_type": "markdown",
   "id": "b497a226",
   "metadata": {},
   "source": [
    "#### Сводная таблица с результатом:"
   ]
  },
  {
   "cell_type": "code",
   "execution_count": 30,
   "id": "55f8e5a9",
   "metadata": {},
   "outputs": [
    {
     "name": "stdout",
     "output_type": "stream",
     "text": [
      "      Dickey-Fuller GLS Results      \n",
      "=====================================\n",
      "Test Statistic                  0.374\n",
      "P-value                         0.807\n",
      "Lags                                1\n",
      "-------------------------------------\n",
      "\n",
      "Trend: Constant\n",
      "Critical Values: -2.93 (1%), -2.30 (5%), -1.99 (10%)\n",
      "Null Hypothesis: The process contains a unit root.\n",
      "Alternative Hypothesis: The process is weakly stationary.\n"
     ]
    }
   ],
   "source": [
    "print(df_gls_CONS.summary())"
   ]
  },
  {
   "cell_type": "markdown",
   "id": "f3d00364",
   "metadata": {},
   "source": [
    "### Дополнительная проверка ряда GDP с помощью ADF-GLS"
   ]
  },
  {
   "cell_type": "code",
   "execution_count": 31,
   "id": "c6ad51ac",
   "metadata": {
    "scrolled": true
   },
   "outputs": [],
   "source": [
    "# Доп.проверка ADF-GLS для GDP\n",
    "df_gls_GDP = DFGLS(final_AUS.GDP, trend = 'c')"
   ]
  },
  {
   "cell_type": "markdown",
   "id": "4704d9a1",
   "metadata": {},
   "source": [
    "#### Сводная таблица с результатом:"
   ]
  },
  {
   "cell_type": "code",
   "execution_count": 32,
   "id": "844cedac",
   "metadata": {},
   "outputs": [
    {
     "name": "stdout",
     "output_type": "stream",
     "text": [
      "      Dickey-Fuller GLS Results      \n",
      "=====================================\n",
      "Test Statistic                  0.843\n",
      "P-value                         0.902\n",
      "Lags                                0\n",
      "-------------------------------------\n",
      "\n",
      "Trend: Constant\n",
      "Critical Values: -2.92 (1%), -2.29 (5%), -1.98 (10%)\n",
      "Null Hypothesis: The process contains a unit root.\n",
      "Alternative Hypothesis: The process is weakly stationary.\n"
     ]
    }
   ],
   "source": [
    "print(df_gls_GDP.summary())"
   ]
  },
  {
   "cell_type": "markdown",
   "id": "159f7374",
   "metadata": {},
   "source": [
    "### Вывод: результаты ADF-GLS позволяют установить, что оба ряда являются не стационарными относительно тренда, а именно процессами *случайного блуждания c ненулевым дрейфом* , которые очень часто ложно принимаются ADF-тестом за TS-ряды (Подкорытова О.А, Соколов М.В. Анализ временных рядов. М.: Юрайт, 2021. С.80)"
   ]
  },
  {
   "cell_type": "markdown",
   "id": "84efdff3",
   "metadata": {},
   "source": [
    "<hr> "
   ]
  },
  {
   "cell_type": "markdown",
   "id": "0b9c91f2",
   "metadata": {},
   "source": [
    "### Первая разность CONSUMPTION - d_cons"
   ]
  },
  {
   "cell_type": "code",
   "execution_count": 33,
   "id": "1a2d77ad",
   "metadata": {},
   "outputs": [],
   "source": [
    "d_cons = final_AUS.consumption.diff().dropna()"
   ]
  },
  {
   "cell_type": "code",
   "execution_count": 34,
   "id": "27350868",
   "metadata": {},
   "outputs": [
    {
     "name": "stdout",
     "output_type": "stream",
     "text": [
      "AxesSubplot(0.125,0.125;0.775x0.755)\n"
     ]
    },
    {
     "data": {
      "image/png": "[encoded data removed]",
      "text/plain": [
       "<Figure size 1224x504 with 1 Axes>"
      ]
     },
     "metadata": {
      "needs_background": "light"
     },
     "output_type": "display_data"
    }
   ],
   "source": [
    "print(d_cons.plot(kind = 'line', \n",
    "                title = 'Первая разность ряда Consumption - d_cons', \n",
    "                 figsize = (17, 7)))"
   ]
  },
  {
   "cell_type": "markdown",
   "id": "1e896cfa",
   "metadata": {},
   "source": [
    "### ADF-тест для d_cons"
   ]
  },
  {
   "cell_type": "code",
   "execution_count": 35,
   "id": "aaba767e",
   "metadata": {
    "scrolled": false
   },
   "outputs": [
    {
     "name": "stdout",
     "output_type": "stream",
     "text": [
      "   Augmented Dickey-Fuller Results   \n",
      "=====================================\n",
      "Test Statistic                 -5.991\n",
      "P-value                         0.000\n",
      "Lags                                0\n",
      "-------------------------------------\n",
      "\n",
      "Trend: Constant and Linear Time Trend\n",
      "Critical Values: -4.16 (1%), -3.50 (5%), -3.18 (10%)\n",
      "Null Hypothesis: The process contains a unit root.\n",
      "Alternative Hypothesis: The process is weakly stationary.\n",
      "\n",
      "\n",
      "                            OLS Regression Results                            \n",
      "==============================================================================\n",
      "Dep. Variable:                      y   R-squared:                       0.439\n",
      "Model:                            OLS   Adj. R-squared:                  0.415\n",
      "Method:                 Least Squares   F-statistic:                     18.00\n",
      "Date:                Mon, 27 Dec 2021   Prob (F-statistic):           1.68e-06\n",
      "Time:                        22:17:44   Log-Likelihood:                -1217.1\n",
      "No. Observations:                  49   AIC:                             2440.\n",
      "Df Residuals:                      46   BIC:                             2446.\n",
      "Df Model:                           2                                         \n",
      "Covariance Type:            nonrobust                                         \n",
      "==============================================================================\n",
      "                 coef    std err          t      P>|t|      [0.025      0.975]\n",
      "------------------------------------------------------------------------------\n",
      "Level.L1      -0.8874      0.148     -5.991      0.000      -1.186      -0.589\n",
      "const       5.594e+09   4.51e+09      1.241      0.221   -3.48e+09    1.47e+10\n",
      "trend      -1.102e+07   1.55e+08     -0.071      0.944   -3.23e+08    3.01e+08\n",
      "==============================================================================\n",
      "Omnibus:                        8.695   Durbin-Watson:                   1.945\n",
      "Prob(Omnibus):                  0.013   Jarque-Bera (JB):                9.672\n",
      "Skew:                          -0.638   Prob(JB):                      0.00794\n",
      "Kurtosis:                       4.764   Cond. No.                     3.31e+10\n",
      "==============================================================================\n",
      "\n",
      "Notes:\n",
      "[1] Standard Errors assume that the covariance matrix of the errors is correctly specified.\n",
      "[2] The condition number is large, 3.31e+10. This might indicate that there are\n",
      "strong multicollinearity or other numerical problems.\n"
     ]
    }
   ],
   "source": [
    "d_cons_adf = ADF(d_cons, trend = 'ct')\n",
    "print(d_cons_adf.summary())\n",
    "print('\\n')\n",
    "print(d_cons_adf.regression.summary())"
   ]
  },
  {
   "cell_type": "markdown",
   "id": "01bd226e",
   "metadata": {},
   "source": [
    "### KPSS-тест для d_cons"
   ]
  },
  {
   "cell_type": "code",
   "execution_count": 36,
   "id": "a2c86425",
   "metadata": {},
   "outputs": [
    {
     "name": "stdout",
     "output_type": "stream",
     "text": [
      "    KPSS Stationarity Test Results   \n",
      "=====================================\n",
      "Test Statistic                  0.074\n",
      "P-value                         0.316\n",
      "Lags                                2\n",
      "-------------------------------------\n",
      "\n",
      "Trend: Constant and Linear Time Trend\n",
      "Critical Values: 0.22 (1%), 0.15 (5%), 0.12 (10%)\n",
      "Null Hypothesis: The process is weakly stationary.\n",
      "Alternative Hypothesis: The process contains a unit root.\n"
     ]
    }
   ],
   "source": [
    "# Проверка первой разности Consumption на стационарность\n",
    "kpss_d_cons = KPSS(d_cons, trend = 'ct')\n",
    "print(kpss_d_cons.summary())"
   ]
  },
  {
   "cell_type": "markdown",
   "id": "eff18a00",
   "metadata": {},
   "source": [
    "### ВЫВОД: согласно результатам обоих тестов, первая разность ряда CONS стационарна. Тестовая статистика в обоих тестах попадает в зону принятия гипотезы о TS-характере процесса, сам тренд *статистически незначим* = нулевой. Таким образом, ряд действительно стационарный"
   ]
  },
  {
   "cell_type": "markdown",
   "id": "165d1ec9",
   "metadata": {},
   "source": [
    "<hr>"
   ]
  },
  {
   "cell_type": "markdown",
   "id": "baf0bb13",
   "metadata": {},
   "source": [
    "### Первая разность GDP - d_GDP"
   ]
  },
  {
   "cell_type": "code",
   "execution_count": 37,
   "id": "7fb06f2e",
   "metadata": {},
   "outputs": [],
   "source": [
    "# Первая разность ряда GDP \n",
    "d_GDP = final_AUS.GDP.diff().dropna()"
   ]
  },
  {
   "cell_type": "code",
   "execution_count": 38,
   "id": "3a974d91",
   "metadata": {
    "scrolled": false
   },
   "outputs": [
    {
     "name": "stdout",
     "output_type": "stream",
     "text": [
      "AxesSubplot(0.125,0.125;0.775x0.755)\n"
     ]
    },
    {
     "data": {
      "image/png": "[encoded data removed]",
      "text/plain": [
       "<Figure size 1224x504 with 1 Axes>"
      ]
     },
     "metadata": {
      "needs_background": "light"
     },
     "output_type": "display_data"
    }
   ],
   "source": [
    "print(d_GDP.plot(kind= 'line', \n",
    "                 title = 'Первая разность ряда GDP - d_CONS', \n",
    "                figsize = (17, 7)))"
   ]
  },
  {
   "cell_type": "markdown",
   "id": "58b3e702",
   "metadata": {},
   "source": [
    "### ADF-тест для d_GDP"
   ]
  },
  {
   "cell_type": "code",
   "execution_count": 39,
   "id": "7e525e34",
   "metadata": {},
   "outputs": [
    {
     "name": "stdout",
     "output_type": "stream",
     "text": [
      "   Augmented Dickey-Fuller Results   \n",
      "=====================================\n",
      "Test Statistic                 -5.549\n",
      "P-value                         0.000\n",
      "Lags                                1\n",
      "-------------------------------------\n",
      "\n",
      "Trend: Constant and Linear Time Trend\n",
      "Critical Values: -4.16 (1%), -3.51 (5%), -3.18 (10%)\n",
      "Null Hypothesis: The process contains a unit root.\n",
      "Alternative Hypothesis: The process is weakly stationary.\n",
      "\n",
      "\n",
      "                            OLS Regression Results                            \n",
      "==============================================================================\n",
      "Dep. Variable:                      y   R-squared:                       0.477\n",
      "Model:                            OLS   Adj. R-squared:                  0.442\n",
      "Method:                 Least Squares   F-statistic:                     13.39\n",
      "Date:                Mon, 27 Dec 2021   Prob (F-statistic):           2.41e-06\n",
      "Time:                        22:17:45   Log-Likelihood:                -1208.2\n",
      "No. Observations:                  48   AIC:                             2424.\n",
      "Df Residuals:                      44   BIC:                             2432.\n",
      "Df Model:                           3                                         \n",
      "Covariance Type:            nonrobust                                         \n",
      "==============================================================================\n",
      "                 coef    std err          t      P>|t|      [0.025      0.975]\n",
      "------------------------------------------------------------------------------\n",
      "Level.L1      -1.1276      0.203     -5.549      0.000      -1.537      -0.718\n",
      "Diff.L1        0.2380      0.150      1.588      0.119      -0.064       0.540\n",
      "const       8.832e+09   6.46e+09      1.367      0.179   -4.19e+09    2.19e+10\n",
      "trend       3.606e+07   2.26e+08      0.159      0.874    -4.2e+08    4.92e+08\n",
      "==============================================================================\n",
      "Omnibus:                        4.041   Durbin-Watson:                   1.915\n",
      "Prob(Omnibus):                  0.133   Jarque-Bera (JB):                3.051\n",
      "Skew:                          -0.405   Prob(JB):                        0.218\n",
      "Kurtosis:                       3.932   Cond. No.                     6.90e+10\n",
      "==============================================================================\n",
      "\n",
      "Notes:\n",
      "[1] Standard Errors assume that the covariance matrix of the errors is correctly specified.\n",
      "[2] The condition number is large, 6.9e+10. This might indicate that there are\n",
      "strong multicollinearity or other numerical problems.\n"
     ]
    }
   ],
   "source": [
    "### ADF-тест для d_cons\n",
    "d_GDP_adf = ADF(d_GDP, trend = 'ct')\n",
    "print(d_GDP_adf.summary())\n",
    "print('\\n')\n",
    "print(d_GDP_adf.regression.summary())"
   ]
  },
  {
   "cell_type": "markdown",
   "id": "37459842",
   "metadata": {},
   "source": [
    "### KPSS-тест для d_GDP"
   ]
  },
  {
   "cell_type": "code",
   "execution_count": 40,
   "id": "16223344",
   "metadata": {},
   "outputs": [
    {
     "name": "stdout",
     "output_type": "stream",
     "text": [
      "    KPSS Stationarity Test Results   \n",
      "=====================================\n",
      "Test Statistic                  0.069\n",
      "P-value                         0.352\n",
      "Lags                                4\n",
      "-------------------------------------\n",
      "\n",
      "Trend: Constant and Linear Time Trend\n",
      "Critical Values: 0.22 (1%), 0.15 (5%), 0.12 (10%)\n",
      "Null Hypothesis: The process is weakly stationary.\n",
      "Alternative Hypothesis: The process contains a unit root.\n",
      "\n",
      "\n"
     ]
    }
   ],
   "source": [
    "d_GDP_kpss = KPSS(d_GDP, trend = 'ct')\n",
    "print(d_GDP_kpss.summary())\n",
    "print('\\n')"
   ]
  },
  {
   "cell_type": "markdown",
   "id": "4790492a",
   "metadata": {},
   "source": [
    "### ВЫВОД: \n",
    "#### согласно результатам обоих тестов, первая разность ряда GDP стационарна. Тестовая статистика в обоих тестах попадает в зону принятия гипотезы о TS-характере процесса, сам тренд статистически незначим = нулевой. Таким образом, ряд действительно стационарный\n",
    "<br>\n",
    "<br>\n",
    "\n",
    "### ОБЩИЙ ВЫВОД: порядок интегрирования обоих рядов = 1"
   ]
  },
  {
   "cell_type": "markdown",
   "id": "1c38e792",
   "metadata": {},
   "source": [
    "<hr> "
   ]
  },
  {
   "cell_type": "markdown",
   "id": "88b5bf79",
   "metadata": {},
   "source": [
    "# Задача 2. Тест Грейнджера для выявления причинности (на стационарных рядах)"
   ]
  },
  {
   "cell_type": "markdown",
   "id": "65573b65",
   "metadata": {},
   "source": [
    "Пояснение: как работает реализация теста Грейнджера в Python? "
   ]
  },
  {
   "cell_type": "code",
   "execution_count": 41,
   "id": "f5c7fce8",
   "metadata": {},
   "outputs": [],
   "source": [
    "d_cons_gdp = final_AUS[['consumption', 'GDP']].diff().dropna()"
   ]
  },
  {
   "cell_type": "markdown",
   "id": "78ca1493",
   "metadata": {},
   "source": [
    "#### Случай А. Является ли d_GDP причинностью по Грейнджеру для d_cons? (ВВП для потребления) (порядок лага - до 7)"
   ]
  },
  {
   "cell_type": "code",
   "execution_count": 42,
   "id": "7797b313",
   "metadata": {
    "scrolled": true
   },
   "outputs": [
    {
     "name": "stdout",
     "output_type": "stream",
     "text": [
      "\n",
      "Granger Causality\n",
      "number of lags (no zero) 7\n",
      "ssr based F test:         F=6.0025  , p=0.0002  , df_denom=28, df_num=7\n",
      "ssr based chi2 test:   chi2=64.5274 , p=0.0000  , df=7\n",
      "likelihood ratio test: chi2=39.4114 , p=0.0000  , df=7\n",
      "parameter F test:         F=6.0025  , p=0.0002  , df_denom=28, df_num=7\n"
     ]
    }
   ],
   "source": [
    "g_caus = timeseries.stattools.grangercausalitytests(d_cons_gdp[['consumption', 'GDP']], maxlag = [7], verbose = True)"
   ]
  },
  {
   "cell_type": "markdown",
   "id": "e48a8468",
   "metadata": {},
   "source": [
    "#### ВЫВОД: р-значение принятия Н(0) об отсутствии влияния d_GDP на d_cons во всех случаях существенно ниже уровня значимости (5%). ДА, ВВП действительно является причинностью по Грейнджеру для потребления "
   ]
  },
  {
   "cell_type": "markdown",
   "id": "807021c1",
   "metadata": {},
   "source": [
    "#### Случай В. Является ли d_cons причинностью по Грейнджеру для d_GDP? (потребление для ВВП) (порядок лага - до 7)"
   ]
  },
  {
   "cell_type": "code",
   "execution_count": 43,
   "id": "7d3a8c76",
   "metadata": {
    "scrolled": true
   },
   "outputs": [
    {
     "name": "stdout",
     "output_type": "stream",
     "text": [
      "\n",
      "Granger Causality\n",
      "number of lags (no zero) 7\n",
      "ssr based F test:         F=7.3483  , p=0.0000  , df_denom=28, df_num=7\n",
      "ssr based chi2 test:   chi2=78.9939 , p=0.0000  , df=7\n",
      "likelihood ratio test: chi2=44.8391 , p=0.0000  , df=7\n",
      "parameter F test:         F=7.3483  , p=0.0000  , df_denom=28, df_num=7\n"
     ]
    }
   ],
   "source": [
    "g_caus = timeseries.stattools.grangercausalitytests(d_cons_gdp[['GDP','consumption']], maxlag = [7], verbose = True)"
   ]
  },
  {
   "cell_type": "markdown",
   "id": "3372a4df",
   "metadata": {},
   "source": [
    "#### ВЫВОД: р-значение принятия Н(0) об отсутствии влияния d_GDP на d_cons во всех случаях существенно ниже уровня значимости (5%). ДА, потребление действительно является причинностью для ВВП"
   ]
  },
  {
   "cell_type": "markdown",
   "id": "881ad0fc",
   "metadata": {},
   "source": [
    "### ОБЩИЙ ВЫВОД: \n",
    "### Тест Грейнджера позволил установить причинность В ОБЕ СТОРОНЫ: d_GDP является причинностью для d_cons и наоборот. Однако причинность выражено *слабо*, поскольку подтвердилась лишь на 7 лаге.\n",
    "### Важно заметить, что отсутствие причинности по Г. для первых разностей необязательно означает отсутствие этой причинности для *исходных временных рядов*. Подробнее причинность для исходных рядов исследована в Задаче 7 (Построение VECM-модели). "
   ]
  },
  {
   "cell_type": "markdown",
   "id": "dc954b99",
   "metadata": {},
   "source": [
    "<hr>"
   ]
  },
  {
   "cell_type": "markdown",
   "id": "e54aa26d",
   "metadata": {},
   "source": [
    "# Задача 3. Оценка модели ARIMA(p,d,q) для одного из рядов"
   ]
  },
  {
   "cell_type": "markdown",
   "id": "a827677d",
   "metadata": {},
   "source": [
    "### Ряд d_cons (потребление): выбор p, q для ARIMA (p, 1, q)  на основе анализа ACF и PACF"
   ]
  },
  {
   "cell_type": "code",
   "execution_count": 44,
   "id": "e346a1db",
   "metadata": {
    "scrolled": true
   },
   "outputs": [
    {
     "data": {
      "image/png": "[encoded data removed]",
      "text/plain": [
       "<Figure size 432x288 with 1 Axes>"
      ]
     },
     "metadata": {
      "needs_background": "light"
     },
     "output_type": "display_data"
    }
   ],
   "source": [
    "# ACF и PACF для ряда d_cons\n",
    "# d_cons_acf = timeseries.stattools.acf(d_cons)\n",
    "plot_acf_d_cons = sm.graphics.tsa.plot_acf(d_cons, lags = len(d_cons)-1)"
   ]
  },
  {
   "cell_type": "code",
   "execution_count": 45,
   "id": "60f2c27b",
   "metadata": {
    "scrolled": true
   },
   "outputs": [
    {
     "data": {
      "image/png": "[encoded data removed]",
      "text/plain": [
       "<Figure size 432x288 with 1 Axes>"
      ]
     },
     "metadata": {
      "needs_background": "light"
     },
     "output_type": "display_data"
    }
   ],
   "source": [
    "plot_pacf_d_cons = sm.graphics.tsa.plot_pacf(d_cons, lags = 24)"
   ]
  },
  {
   "cell_type": "markdown",
   "id": "c1f75d23",
   "metadata": {},
   "source": [
    "### Построение модели ARIMA (1, 1, 1)"
   ]
  },
  {
   "cell_type": "code",
   "execution_count": 46,
   "id": "0c8b4f67",
   "metadata": {},
   "outputs": [
    {
     "name": "stdout",
     "output_type": "stream",
     "text": [
      "                               SARIMAX Results                                \n",
      "==============================================================================\n",
      "Dep. Variable:            consumption   No. Observations:                   51\n",
      "Model:                 ARIMA(1, 1, 1)   Log Likelihood               -1243.166\n",
      "Date:                Mon, 27 Dec 2021   AIC                           2492.331\n",
      "Time:                        22:17:46   BIC                           2498.067\n",
      "Sample:                             0   HQIC                          2494.516\n",
      "                                 - 51                                         \n",
      "Covariance Type:                  opg                                         \n",
      "==============================================================================\n",
      "                 coef    std err          z      P>|z|      [0.025      0.975]\n",
      "------------------------------------------------------------------------------\n",
      "ar.L1         -0.5412      0.292     -1.853      0.064      -1.114       0.031\n",
      "ma.L1          0.8198      0.200      4.094      0.000       0.427       1.212\n",
      "sigma2      2.567e+20   2.31e-22   1.11e+42      0.000    2.57e+20    2.57e+20\n",
      "===================================================================================\n",
      "Ljung-Box (L1) (Q):                   0.47   Jarque-Bera (JB):                 1.63\n",
      "Prob(Q):                              0.49   Prob(JB):                         0.44\n",
      "Heteroskedasticity (H):               7.17   Skew:                            -0.34\n",
      "Prob(H) (two-sided):                  0.00   Kurtosis:                         3.57\n",
      "===================================================================================\n",
      "\n",
      "Warnings:\n",
      "[1] Covariance matrix calculated using the outer product of gradients (complex-step).\n",
      "[2] Covariance matrix is singular or near-singular, with condition number 1.38e+58. Standard errors may be unstable.\n"
     ]
    }
   ],
   "source": [
    "arima_1_1_1 = timeseries.arima.ARIMA(final_AUS.consumption, order = (1, 1, 1)).fit()\n",
    "print(arima_1_1_1.summary())"
   ]
  },
  {
   "cell_type": "code",
   "execution_count": 47,
   "id": "65ef6520",
   "metadata": {},
   "outputs": [
    {
     "name": "stdout",
     "output_type": "stream",
     "text": [
      "Корни характеристического уравнения по модулю: \n",
      " для AR - 1.847681786676704, \n",
      " для МА - 1.2198089974202113\n"
     ]
    }
   ],
   "source": [
    "print(f'Корни характеристического уравнения по модулю: \\n для AR - {abs(arima_1_1_1.arroots[0])}, \\n для МА - {abs(arima_1_1_1.maroots[0])}')"
   ]
  },
  {
   "cell_type": "markdown",
   "id": "61737084",
   "metadata": {},
   "source": [
    "### ВЫВОДЫ: \n",
    "#### АВТОКОРРЕЛЯЦИЯ:  р-значение принятия Н(0) в тесте Ljung-Box(Q) = 49%, что выше уровня значимости. Нулевая гипотеза об отсутствии АК принимается. \n",
    "#### КОРНИ ХАРАКТЕРИСТИЧЕСКИХ УРАВНЕНИЙ: как для AR, так и для MA части больше единицы по модулю, т.е. лежат вне единичного круга. Модель действительно описывает стационарный процесс. "
   ]
  },
  {
   "cell_type": "markdown",
   "id": "bdbbcc6b",
   "metadata": {},
   "source": [
    "<hr>"
   ]
  },
  {
   "cell_type": "markdown",
   "id": "d7a6f421",
   "metadata": {},
   "source": [
    "### Построение прогноза и доверительного интервала по ARIMA(1,1,1) на 1 шаг вперед"
   ]
  },
  {
   "cell_type": "code",
   "execution_count": 48,
   "id": "f830383f",
   "metadata": {},
   "outputs": [],
   "source": [
    "forecast = arima_1_1_1.get_forecast().summary_frame()\n",
    "forecast.columns = ['Прогноз', 'Стандартная ошибка', 'Нижняя граница ДИ', 'Верхняя граница ДИ']"
   ]
  },
  {
   "cell_type": "code",
   "execution_count": 49,
   "id": "e174752f",
   "metadata": {},
   "outputs": [
    {
     "data": {
      "text/html": [
       "<div>\n",
       "<style scoped>\n",
       "    .dataframe tbody tr th:only-of-type {\n",
       "        vertical-align: middle;\n",
       "    }\n",
       "\n",
       "    .dataframe tbody tr th {\n",
       "        vertical-align: top;\n",
       "    }\n",
       "\n",
       "    .dataframe thead th {\n",
       "        text-align: right;\n",
       "    }\n",
       "</style>\n",
       "<table border=\"1\" class=\"dataframe\">\n",
       "  <thead>\n",
       "    <tr style=\"text-align: right;\">\n",
       "      <th></th>\n",
       "      <th>Прогноз</th>\n",
       "      <th>Стандартная ошибка</th>\n",
       "      <th>Нижняя граница ДИ</th>\n",
       "      <th>Верхняя граница ДИ</th>\n",
       "    </tr>\n",
       "  </thead>\n",
       "  <tbody>\n",
       "    <tr>\n",
       "      <th>51</th>\n",
       "      <td>3.122900e+11</td>\n",
       "      <td>1.602274e+10</td>\n",
       "      <td>2.808860e+11</td>\n",
       "      <td>3.436940e+11</td>\n",
       "    </tr>\n",
       "  </tbody>\n",
       "</table>\n",
       "</div>"
      ],
      "text/plain": [
       "         Прогноз  Стандартная ошибка  Нижняя граница ДИ  Верхняя граница ДИ\n",
       "51  3.122900e+11        1.602274e+10       2.808860e+11        3.436940e+11"
      ]
     },
     "execution_count": 49,
     "metadata": {},
     "output_type": "execute_result"
    }
   ],
   "source": [
    "forecast"
   ]
  },
  {
   "cell_type": "markdown",
   "id": "b873b6a3",
   "metadata": {},
   "source": [
    "<hr>"
   ]
  },
  {
   "cell_type": "markdown",
   "id": "41e32881",
   "metadata": {},
   "source": [
    "# Задача 4. Проверка наличия ARCH-эффекта в остатках модели ARIMA (1,1,1) с помощью теста Ингла (ARCH-LM test)"
   ]
  },
  {
   "cell_type": "markdown",
   "id": "ec949e8c",
   "metadata": {},
   "source": [
    "#### Выделение остатков"
   ]
  },
  {
   "cell_type": "code",
   "execution_count": 50,
   "id": "b0401250",
   "metadata": {},
   "outputs": [],
   "source": [
    "arima111_resid = arima_1_1_1.resid"
   ]
  },
  {
   "cell_type": "code",
   "execution_count": 51,
   "id": "1e40bb77",
   "metadata": {},
   "outputs": [
    {
     "data": {
      "text/plain": [
       "<AxesSubplot:title={'center':'Остатки модели ARIMA (1, 1, 1)'}>"
      ]
     },
     "execution_count": 51,
     "metadata": {},
     "output_type": "execute_result"
    },
    {
     "data": {
      "image/png": "[encoded data removed]",
      "text/plain": [
       "<Figure size 1224x504 with 1 Axes>"
      ]
     },
     "metadata": {
      "needs_background": "light"
     },
     "output_type": "display_data"
    }
   ],
   "source": [
    "arima111_resid.plot(kind = 'line',\n",
    "                    figsize = (17, 7), \n",
    "                    title = 'Остатки модели ARIMA (1, 1, 1)')"
   ]
  },
  {
   "cell_type": "markdown",
   "id": "59107401",
   "metadata": {},
   "source": [
    "<hr>"
   ]
  },
  {
   "cell_type": "markdown",
   "id": "023e2b0e",
   "metadata": {},
   "source": [
    "### Тест Энгла на ARCH-эффект в остатках ARIMA-модели (ARCH-LM test)\n",
    "#### Нулевая гипотеза (Н0): в остатках модели ARCH-эффекта не наблюдается\n",
    "#### Альтернативная гипотеза (Н1): в остатках модели есть ARCH-эффект. \n",
    "#### Тестируемая статистика: LM"
   ]
  },
  {
   "cell_type": "code",
   "execution_count": 52,
   "id": "2cbe764a",
   "metadata": {},
   "outputs": [
    {
     "name": "stdout",
     "output_type": "stream",
     "text": [
      "LM-статистика расчетная = 23.04670881474513\n",
      "P-значение = 0.5748357716843808\n"
     ]
    }
   ],
   "source": [
    "arch_eff_results = sm.stats.diagnostic.het_arch(arima111_resid, nlags = 25)\n",
    "print(f'LM-статистика расчетная = {arch_eff_results[0]}\\nP-значение = {arch_eff_results[1]}')"
   ]
  },
  {
   "cell_type": "markdown",
   "id": "4a08af35",
   "metadata": {},
   "source": [
    "### ВЫВОД: р-значение принятия H0 = 57,5%. Несмотря на подтвержденную гетероскедастичноть, выявить связь текущих и прошлых значений ошибок (ARCH-эффект) не удалось. GARCH-модель строиться не будет."
   ]
  },
  {
   "cell_type": "markdown",
   "id": "25008bad",
   "metadata": {},
   "source": [
    "<hr>"
   ]
  },
  {
   "cell_type": "markdown",
   "id": "04f86a46",
   "metadata": {},
   "source": [
    "# Задача 5. Коинтеграция по Инглу-Грейнджеру и модель коррекции ошибок (ECM)"
   ]
  },
  {
   "cell_type": "markdown",
   "id": "68853701",
   "metadata": {},
   "source": [
    "Согласно процедуре Ингла-Грейнджера, \n",
    "<br>**Шаг 1.** Оба ряда должны быть одного порядка интегрируемости. Это уже проверено ранее. \n",
    "<br>**Шаг 2.** Коинтегрирующий вектор в нашем случае неизвестен. Тогда для построения модели коинтеграции линейная комбинация двух рядов должна быть стационарной\n",
    "\n",
    "<br>Поскольку тест на причинность по Грейнджеру показал **причинность в обе стороны**, построим две модели коинтеграции. "
   ]
  },
  {
   "cell_type": "code",
   "execution_count": 53,
   "id": "2a8273be",
   "metadata": {},
   "outputs": [],
   "source": [
    "final_dataset = final_AUS[['consumption', 'GDP']]"
   ]
  },
  {
   "cell_type": "code",
   "execution_count": 54,
   "id": "74c61492",
   "metadata": {},
   "outputs": [],
   "source": [
    "final_dataset.loc[:, 'constant'] = 1"
   ]
  },
  {
   "cell_type": "markdown",
   "id": "9e23c6e6",
   "metadata": {},
   "source": [
    "### Модель коинтеграции Y = cons, X = GDP, включая константу"
   ]
  },
  {
   "cell_type": "code",
   "execution_count": 55,
   "id": "b950e145",
   "metadata": {},
   "outputs": [],
   "source": [
    "cointegration_GDP_cons = sm.OLS(endog = final_dataset.consumption, \n",
    "                                exog = final_dataset[['GDP', 'constant']]).fit()"
   ]
  },
  {
   "cell_type": "code",
   "execution_count": 56,
   "id": "05550a32",
   "metadata": {},
   "outputs": [
    {
     "name": "stdout",
     "output_type": "stream",
     "text": [
      "                            OLS Regression Results                            \n",
      "==============================================================================\n",
      "Dep. Variable:            consumption   R-squared:                       0.999\n",
      "Model:                            OLS   Adj. R-squared:                  0.999\n",
      "Method:                 Least Squares   F-statistic:                 5.803e+04\n",
      "Date:                Mon, 27 Dec 2021   Prob (F-statistic):           5.57e-77\n",
      "Time:                        22:17:47   Log-Likelihood:                -1186.4\n",
      "No. Observations:                  51   AIC:                             2377.\n",
      "Df Residuals:                      49   BIC:                             2381.\n",
      "Df Model:                           1                                         \n",
      "Covariance Type:            nonrobust                                         \n",
      "==============================================================================\n",
      "                 coef    std err          t      P>|t|      [0.025      0.975]\n",
      "------------------------------------------------------------------------------\n",
      "GDP            0.7206      0.003    240.898      0.000       0.715       0.727\n",
      "constant    2.218e+09   7.82e+08      2.837      0.007    6.47e+08    3.79e+09\n",
      "==============================================================================\n",
      "Omnibus:                        1.150   Durbin-Watson:                   0.578\n",
      "Prob(Omnibus):                  0.563   Jarque-Bera (JB):                1.006\n",
      "Skew:                          -0.334   Prob(JB):                        0.605\n",
      "Kurtosis:                       2.835   Cond. No.                     4.66e+11\n",
      "==============================================================================\n",
      "\n",
      "Notes:\n",
      "[1] Standard Errors assume that the covariance matrix of the errors is correctly specified.\n",
      "[2] The condition number is large, 4.66e+11. This might indicate that there are\n",
      "strong multicollinearity or other numerical problems.\n"
     ]
    }
   ],
   "source": [
    "print(cointegration_GDP_cons.summary())"
   ]
  },
  {
   "cell_type": "markdown",
   "id": "9bec61e5",
   "metadata": {},
   "source": [
    "**Промежуточный вывод:** коэффициенты параметров модели статистически значимы: р-значения в тестах Стьюдента - 0% и 0,07%, ниже уровня значимости. Уравнение значимо в целом: р-значение в тесте Фишера близко к 0. "
   ]
  },
  {
   "cell_type": "markdown",
   "id": "d4c552c6",
   "metadata": {},
   "source": [
    "#### Модель коинтеграции Y = GDP, X = cons, включая константу"
   ]
  },
  {
   "cell_type": "code",
   "execution_count": 57,
   "id": "e6e1b341",
   "metadata": {},
   "outputs": [],
   "source": [
    "cointegration_cons_GDP = sm.OLS(endog = final_dataset.GDP, \n",
    "                                exog = final_dataset[['consumption', 'constant']]).fit()"
   ]
  },
  {
   "cell_type": "code",
   "execution_count": 58,
   "id": "1d6df1a5",
   "metadata": {},
   "outputs": [
    {
     "name": "stdout",
     "output_type": "stream",
     "text": [
      "                            OLS Regression Results                            \n",
      "==============================================================================\n",
      "Dep. Variable:                    GDP   R-squared:                       0.999\n",
      "Model:                            OLS   Adj. R-squared:                  0.999\n",
      "Method:                 Least Squares   F-statistic:                 5.803e+04\n",
      "Date:                Mon, 27 Dec 2021   Prob (F-statistic):           5.57e-77\n",
      "Time:                        22:17:48   Log-Likelihood:                -1203.1\n",
      "No. Observations:                  51   AIC:                             2410.\n",
      "Df Residuals:                      49   BIC:                             2414.\n",
      "Df Model:                           1                                         \n",
      "Covariance Type:            nonrobust                                         \n",
      "===============================================================================\n",
      "                  coef    std err          t      P>|t|      [0.025      0.975]\n",
      "-------------------------------------------------------------------------------\n",
      "consumption     1.3866      0.006    240.898      0.000       1.375       1.398\n",
      "constant    -2.893e+09   1.09e+09     -2.642      0.011   -5.09e+09   -6.93e+08\n",
      "==============================================================================\n",
      "Omnibus:                        1.687   Durbin-Watson:                   0.579\n",
      "Prob(Omnibus):                  0.430   Jarque-Bera (JB):                1.392\n",
      "Skew:                           0.402   Prob(JB):                        0.499\n",
      "Kurtosis:                       2.910   Cond. No.                     3.43e+11\n",
      "==============================================================================\n",
      "\n",
      "Notes:\n",
      "[1] Standard Errors assume that the covariance matrix of the errors is correctly specified.\n",
      "[2] The condition number is large, 3.43e+11. This might indicate that there are\n",
      "strong multicollinearity or other numerical problems.\n"
     ]
    }
   ],
   "source": [
    "print(cointegration_cons_GDP.summary())"
   ]
  },
  {
   "cell_type": "markdown",
   "id": "1a8b736f",
   "metadata": {},
   "source": [
    "#### AIC и BIC в первой модели ниже, поэтому принимаем ее за лучшую из двух и работаем с ее остатками: строим модель ЕСМ"
   ]
  },
  {
   "cell_type": "markdown",
   "id": "fa86fb47",
   "metadata": {},
   "source": [
    "<hr>"
   ]
  },
  {
   "cell_type": "markdown",
   "id": "b855b56a",
   "metadata": {},
   "source": [
    "### Выделяем остатки первой модели коинтеграции (Y = cons, X = GDP)"
   ]
  },
  {
   "cell_type": "code",
   "execution_count": 59,
   "id": "b02140b6",
   "metadata": {},
   "outputs": [],
   "source": [
    "resids_coint_model = cointegration_GDP_cons.resid"
   ]
  },
  {
   "cell_type": "markdown",
   "id": "f9856b7b",
   "metadata": {},
   "source": [
    "### Проверяем остаки на стационарность с помощью теста ADF"
   ]
  },
  {
   "cell_type": "code",
   "execution_count": 60,
   "id": "9a51baf6",
   "metadata": {},
   "outputs": [
    {
     "name": "stdout",
     "output_type": "stream",
     "text": [
      "   Augmented Dickey-Fuller Results   \n",
      "=====================================\n",
      "Test Statistic                 -2.035\n",
      "P-value                         0.040\n",
      "Lags                                2\n",
      "-------------------------------------\n",
      "\n",
      "Trend: No Trend\n",
      "Critical Values: -2.61 (1%), -1.95 (5%), -1.61 (10%)\n",
      "Null Hypothesis: The process contains a unit root.\n",
      "Alternative Hypothesis: The process is weakly stationary.\n",
      "\n",
      "\n",
      "ВСПОМОГАТЕЛЬНАЯ РЕГРЕССИЯ ADF БЕЗ КОНСТАНТЫ И ТРЕНДА\n",
      "\n",
      "                                 OLS Regression Results                                \n",
      "=======================================================================================\n",
      "Dep. Variable:                      y   R-squared (uncentered):                   0.255\n",
      "Model:                            OLS   Adj. R-squared (uncentered):              0.205\n",
      "Method:                 Least Squares   F-statistic:                              5.136\n",
      "Date:                Mon, 27 Dec 2021   Prob (F-statistic):                     0.00386\n",
      "Time:                        22:17:48   Log-Likelihood:                         -1097.9\n",
      "No. Observations:                  48   AIC:                                      2202.\n",
      "Df Residuals:                      45   BIC:                                      2207.\n",
      "Df Model:                           3                                                  \n",
      "Covariance Type:            nonrobust                                                  \n",
      "==============================================================================\n",
      "                 coef    std err          t      P>|t|      [0.025      0.975]\n",
      "------------------------------------------------------------------------------\n",
      "Level.L1      -0.2711      0.133     -2.035      0.048      -0.539      -0.003\n",
      "Diff.L1        0.2311      0.147      1.576      0.122      -0.064       0.526\n",
      "Diff.L2       -0.2716      0.151     -1.805      0.078      -0.575       0.032\n",
      "==============================================================================\n",
      "Omnibus:                       22.982   Durbin-Watson:                   1.926\n",
      "Prob(Omnibus):                  0.000   Jarque-Bera (JB):               82.845\n",
      "Skew:                           0.996   Prob(JB):                     1.02e-18\n",
      "Kurtosis:                       9.120   Cond. No.                         2.20\n",
      "==============================================================================\n",
      "\n",
      "Notes:\n",
      "[1] R² is computed without centering (uncentered) since the model does not contain a constant.\n",
      "[2] Standard Errors assume that the covariance matrix of the errors is correctly specified.\n"
     ]
    }
   ],
   "source": [
    "resids_adf = ADF(resids_coint_model, trend = 'n')\n",
    "print(f'{resids_adf.summary()}\\n\\n\\nВСПОМОГАТЕЛЬНАЯ РЕГРЕССИЯ ADF БЕЗ КОНСТАНТЫ И ТРЕНДА\\n\\n{resids_adf.regression.summary()}')"
   ]
  },
  {
   "cell_type": "markdown",
   "id": "34e33fef",
   "metadata": {},
   "source": [
    "### Тест LJUNG-BOX (Q) на автокорреляцию в остатках\n",
    "#### Проверяем остатки вспомогательной регрессии ADF на наличие АК"
   ]
  },
  {
   "cell_type": "code",
   "execution_count": 61,
   "id": "cea6d45e",
   "metadata": {},
   "outputs": [
    {
     "name": "stdout",
     "output_type": "stream",
     "text": [
      "      lb_stat  lb_pvalue\n",
      "1    0.042562   0.836551\n",
      "2    0.043540   0.978465\n",
      "3    0.107650   0.990904\n",
      "4    0.367144   0.985077\n",
      "5    1.418109   0.922322\n",
      "6    1.642710   0.949458\n",
      "7    3.750085   0.808071\n",
      "8    4.076518   0.850155\n",
      "9    5.914395   0.748454\n",
      "10   5.916065   0.822265\n",
      "11   6.079346   0.868018\n",
      "12   6.351975   0.897310\n",
      "13   7.220724   0.890421\n",
      "14   7.363499   0.919790\n",
      "15   7.374180   0.946423\n",
      "16   8.381883   0.936676\n",
      "17   9.587725   0.920003\n",
      "18   9.689683   0.941565\n",
      "19   9.864299   0.956214\n",
      "20  10.184338   0.964705\n",
      "21  10.238314   0.975649\n",
      "22  10.746912   0.978175\n"
     ]
    }
   ],
   "source": [
    "print(sm.stats.acorr_ljungbox(resids_adf.regression.resid, return_df = True))"
   ]
  },
  {
   "cell_type": "markdown",
   "id": "324d0f0b",
   "metadata": {},
   "source": [
    "#### ВЫВОД: р-значение принятия нулевой гипотезы об отсутствии автокорреляции в тесте Ljung-Box(Q) ВПЛОТЬ ДО 22 ЛАГА - около 98%. Ни для одного из лагов р-значение не ниже 70% (очень высокий показатель). Это означает, что автокорреляции в остатках вспомогательной ADF-регрессии не наблюдается, и данное уравнение можно использовать как тестовое при определении стационарности линейной комбинации"
   ]
  },
  {
   "cell_type": "markdown",
   "id": "0aab5fd2",
   "metadata": {},
   "source": [
    "### ВЫВОД ПО ADF-ТЕСТУ: \n",
    "#### Тестовая статистика = -1,998\n",
    "#### Критическая ADF для коинтеграции из таблицы = -3,6\n",
    "#### Принимается  Н(0) о DS-характере ряда остатков: остатки нестационарны \n",
    "#### Коинтеграция не найдена, ЕСМ построена быть не может"
   ]
  },
  {
   "cell_type": "markdown",
   "id": "4f0519dd",
   "metadata": {},
   "source": [
    "<hr>"
   ]
  },
  {
   "cell_type": "markdown",
   "id": "822d8410",
   "metadata": {},
   "source": [
    "# Задача 6. Оценка VAR на стационарных рядах"
   ]
  },
  {
   "cell_type": "code",
   "execution_count": 62,
   "id": "2b360767",
   "metadata": {},
   "outputs": [
    {
     "name": "stderr",
     "output_type": "stream",
     "text": [
      "c:\\users\\vsevo\\appdata\\local\\programs\\python\\python39\\lib\\site-packages\\statsmodels\\tsa\\base\\tsa_model.py:578: ValueWarning: An unsupported index was provided and will be ignored when e.g. forecasting.\n",
      "  warnings.warn('An unsupported index was provided and will be'\n"
     ]
    }
   ],
   "source": [
    "VAR_model = timeseries.VAR(endog = d_cons_gdp)"
   ]
  },
  {
   "cell_type": "code",
   "execution_count": 63,
   "id": "dbdf3056",
   "metadata": {},
   "outputs": [],
   "source": [
    "lag_order = VAR_model.select_order(maxlags = 15, trend = 'n')"
   ]
  },
  {
   "cell_type": "code",
   "execution_count": 64,
   "id": "d8d4c13b",
   "metadata": {},
   "outputs": [
    {
     "name": "stdout",
     "output_type": "stream",
     "text": [
      "Выбранный лаг:\n",
      "AIC - 15\n",
      "BIC - 15\n",
      "FPE - 15\n",
      "HQIC - 15\n",
      "\n",
      " VAR Order Selection (* highlights the minimums)  \n",
      "==================================================\n",
      "       AIC         BIC         FPE         HQIC   \n",
      "--------------------------------------------------\n",
      "0        91.46       91.46   5.241e+39       91.46\n",
      "1        91.54       91.72   5.718e+39       91.61\n",
      "2        91.55       91.91   5.774e+39       91.67\n",
      "3        91.66       92.20   6.487e+39       91.85\n",
      "4        91.81       92.52   7.575e+39       92.05\n",
      "5        91.98       92.87   9.116e+39       92.28\n",
      "6        91.39       92.46   5.193e+39       91.76\n",
      "7        91.58       92.82   6.483e+39       92.00\n",
      "8        91.69       93.11   7.667e+39       92.18\n",
      "9        91.16       92.76   4.837e+39       91.71\n",
      "10       91.19       92.97   5.508e+39       91.81\n",
      "11       91.17       93.12   6.090e+39       91.84\n",
      "12       90.05       92.18   2.373e+39       90.78\n",
      "13       90.21       92.52   3.527e+39       91.00\n",
      "14       89.42       91.91   2.249e+39       90.28\n",
      "15      88.14*      90.81*  1.041e+39*      89.06*\n",
      "--------------------------------------------------\n"
     ]
    }
   ],
   "source": [
    "print(f\"Выбранный лаг:\\nAIC - {lag_order.selected_orders['aic']}\\nBIC - {lag_order.selected_orders['bic']}\\nFPE - {lag_order.selected_orders['fpe']}\\nHQIC - {lag_order.selected_orders['hqic']}\\n\")\n",
    "print(lag_order.summary())"
   ]
  },
  {
   "cell_type": "markdown",
   "id": "41d7ead5",
   "metadata": {},
   "source": [
    "#### ВЫВОД: наименьшее значение инфомационных критериев для р = 15. Таким образом, строим VAR(15, 2)"
   ]
  },
  {
   "cell_type": "code",
   "execution_count": 65,
   "id": "28cc1f6b",
   "metadata": {
    "scrolled": false
   },
   "outputs": [
    {
     "name": "stdout",
     "output_type": "stream",
     "text": [
      "  Summary of Regression Results   \n",
      "==================================\n",
      "Model:                         VAR\n",
      "Method:                        OLS\n",
      "Date:           Mon, 27, Dec, 2021\n",
      "Time:                     22:17:48\n",
      "--------------------------------------------------------------------\n",
      "No. of Equations:         2.00000    BIC:                    90.4703\n",
      "Nobs:                     35.0000    HQIC:                   88.6662\n",
      "Log likelihood:          -1572.34    FPE:                9.78439e+38\n",
      "AIC:                      87.7152    Det(Omega_mle):     2.75158e+38\n",
      "--------------------------------------------------------------------\n",
      "Results for equation consumption\n",
      "========================================================================================\n",
      "                        coefficient          std. error           t-stat            prob\n",
      "----------------------------------------------------------------------------------------\n",
      "const            22623163436.048698  17139696719.483269            1.320           0.187\n",
      "L1.consumption             0.448124            3.531649            0.127           0.899\n",
      "L1.GDP                    -0.323583            2.528661           -0.128           0.898\n",
      "L2.consumption             0.465278            2.630826            0.177           0.860\n",
      "L2.GDP                    -0.324321            1.943557           -0.167           0.867\n",
      "L3.consumption             1.236453            4.548005            0.272           0.786\n",
      "L3.GDP                    -0.871135            3.561916           -0.245           0.807\n",
      "L4.consumption             1.632856            3.273595            0.499           0.618\n",
      "L4.GDP                    -1.264996            2.530620           -0.500           0.617\n",
      "L5.consumption             2.843260            3.514967            0.809           0.419\n",
      "L5.GDP                    -2.597156            2.604757           -0.997           0.319\n",
      "L6.consumption            -4.585130            2.940988           -1.559           0.119\n",
      "L6.GDP                     3.037719            2.365181            1.284           0.199\n",
      "L7.consumption            -2.108996            3.273037           -0.644           0.519\n",
      "L7.GDP                     1.214794            2.364152            0.514           0.607\n",
      "L8.consumption            -0.097427            3.753122           -0.026           0.979\n",
      "L8.GDP                     0.346530            2.678760            0.129           0.897\n",
      "L9.consumption            -0.747624            4.423482           -0.169           0.866\n",
      "L9.GDP                     0.674897            3.119416            0.216           0.829\n",
      "L10.consumption           -0.696460            4.830148           -0.144           0.885\n",
      "L10.GDP                   -0.154619            3.233527           -0.048           0.962\n",
      "L11.consumption           -7.806841            4.978335           -1.568           0.117\n",
      "L11.GDP                    5.381892            3.642743            1.477           0.140\n",
      "L12.consumption            1.129716            4.527306            0.250           0.803\n",
      "L12.GDP                   -0.921100            3.308575           -0.278           0.781\n",
      "L13.consumption           -0.374025            4.380514           -0.085           0.932\n",
      "L13.GDP                    0.538105            3.134099            0.172           0.864\n",
      "L14.consumption           -7.906864            4.766965           -1.659           0.097\n",
      "L14.GDP                    5.913836            3.580228            1.652           0.099\n",
      "L15.consumption            5.381067            8.012368            0.672           0.502\n",
      "L15.GDP                   -3.802564            6.025981           -0.631           0.528\n",
      "========================================================================================\n",
      "\n",
      "Results for equation GDP\n",
      "========================================================================================\n",
      "                        coefficient          std. error           t-stat            prob\n",
      "----------------------------------------------------------------------------------------\n",
      "const            30623844673.847485  22013137932.615807            1.391           0.164\n",
      "L1.consumption             1.572598            4.535826            0.347           0.729\n",
      "L1.GDP                    -1.053680            3.247652           -0.324           0.746\n",
      "L2.consumption             2.308904            3.378866            0.683           0.494\n",
      "L2.GDP                    -1.672498            2.496181           -0.670           0.503\n",
      "L3.consumption             3.087783            5.841169            0.529           0.597\n",
      "L3.GDP                    -2.305130            4.574699           -0.504           0.614\n",
      "L4.consumption             2.965330            4.204398            0.705           0.481\n",
      "L4.GDP                    -2.418385            3.250168           -0.744           0.457\n",
      "L5.consumption             4.108960            4.514401            0.910           0.363\n",
      "L5.GDP                    -3.740168            3.345384           -1.118           0.264\n",
      "L6.consumption            -7.026896            3.777218           -1.860           0.063\n",
      "L6.GDP                     4.753438            3.037688            1.565           0.118\n",
      "L7.consumption            -2.553188            4.203681           -0.607           0.544\n",
      "L7.GDP                     1.532498            3.036367            0.505           0.614\n",
      "L8.consumption            -0.465631            4.820272           -0.097           0.923\n",
      "L8.GDP                     0.708245            3.440429            0.206           0.837\n",
      "L9.consumption            -1.528131            5.681240           -0.269           0.788\n",
      "L9.GDP                     1.167936            4.006379            0.292           0.771\n",
      "L10.consumption           -2.618110            6.203536           -0.422           0.673\n",
      "L10.GDP                    0.900826            4.152937            0.217           0.828\n",
      "L11.consumption          -11.521570            6.393857           -1.802           0.072\n",
      "L11.GDP                    8.014528            4.678508            1.713           0.087\n",
      "L12.consumption            1.568412            5.814585            0.270           0.787\n",
      "L12.GDP                   -0.995694            4.249323           -0.234           0.815\n",
      "L13.consumption           -0.909290            5.626054           -0.162           0.872\n",
      "L13.GDP                    1.159753            4.025237            0.288           0.773\n",
      "L14.consumption           -9.019441            6.122387           -1.473           0.141\n",
      "L14.GDP                    6.795777            4.598217            1.478           0.139\n",
      "L15.consumption            9.554387           10.290577            0.928           0.353\n",
      "L15.GDP                   -6.859704            7.739388           -0.886           0.375\n",
      "========================================================================================\n",
      "\n",
      "Correlation matrix of residuals\n",
      "               consumption       GDP\n",
      "consumption       1.000000  0.997497\n",
      "GDP               0.997497  1.000000\n",
      "\n",
      "\n",
      "\n"
     ]
    }
   ],
   "source": [
    "var_model_results = VAR_model.fit(15)\n",
    "print(var_model_results.summary())"
   ]
  },
  {
   "cell_type": "markdown",
   "id": "2a8fae7b",
   "metadata": {},
   "source": [
    "#### Значимых лагов для VAR в первых разностях не обнаружено."
   ]
  },
  {
   "cell_type": "markdown",
   "id": "434dede8",
   "metadata": {},
   "source": [
    "### F-тесты (тесты на причинность по Грейнджеру) для уравнений VAR"
   ]
  },
  {
   "cell_type": "code",
   "execution_count": 66,
   "id": "d4c2d224",
   "metadata": {},
   "outputs": [],
   "source": [
    "caus_test_1 = var_model_results.test_causality(caused = 'consumption', causing = 'GDP')"
   ]
  },
  {
   "cell_type": "code",
   "execution_count": 67,
   "id": "804d5f19",
   "metadata": {},
   "outputs": [
    {
     "ename": "NameError",
     "evalue": "name 'caus_test' is not defined",
     "output_type": "error",
     "traceback": [
      "\u001b[1;31m---------------------------------------------------------------------------\u001b[0m",
      "\u001b[1;31mNameError\u001b[0m                                 Traceback (most recent call last)",
      "\u001b[1;32m<ipython-input-67-715b9b79b3a8>\u001b[0m in \u001b[0;36m<module>\u001b[1;34m\u001b[0m\n\u001b[1;32m----> 1\u001b[1;33m \u001b[0mprint\u001b[0m\u001b[1;33m(\u001b[0m\u001b[0mcaus_test\u001b[0m\u001b[1;33m.\u001b[0m\u001b[0msummary\u001b[0m\u001b[1;33m(\u001b[0m\u001b[1;33m)\u001b[0m\u001b[1;33m)\u001b[0m\u001b[1;33m\u001b[0m\u001b[1;33m\u001b[0m\u001b[0m\n\u001b[0m",
      "\u001b[1;31mNameError\u001b[0m: name 'caus_test' is not defined"
     ]
    }
   ],
   "source": [
    "print(caus_test.summary())"
   ]
  },
  {
   "cell_type": "code",
   "execution_count": null,
   "id": "ba51c883",
   "metadata": {
    "scrolled": true
   },
   "outputs": [],
   "source": [
    "caus_test_2 = var_model_results.test_causality(causing = 'consumption', caused = 'GDP')\n",
    "print(caus_test_2.summary())"
   ]
  },
  {
   "cell_type": "markdown",
   "id": "700fa8a5",
   "metadata": {},
   "source": [
    "### Комментарий: F-тесты на причинность по Грейнеджеру на позволили подтвердить ее наличие для первых разностей. В тесте на причинность по Г. в Задаче 3 причинность подтвердилась лишь на 7 лаге. \n",
    "### Однако отсутствие причинности по Грейнджеру в первых разностях не означает ее отсутствие для *исходных* временных рядов: для проверки этого необходимо проводить тест Йохансена и стороить VECM и смотреть, *значимы ли коэффициенты корректировок*"
   ]
  },
  {
   "cell_type": "markdown",
   "id": "650fc72d",
   "metadata": {},
   "source": [
    "<hr>"
   ]
  },
  {
   "cell_type": "markdown",
   "id": "757ba554",
   "metadata": {},
   "source": [
    "# Задача 7. Тест Йохансена и оценка VECM"
   ]
  },
  {
   "cell_type": "code",
   "execution_count": null,
   "id": "c8df1cda",
   "metadata": {},
   "outputs": [],
   "source": [
    "VAR_non_stationary = timeseries.VAR(final_AUS[['consumption', 'GDP']])"
   ]
  },
  {
   "cell_type": "code",
   "execution_count": null,
   "id": "fad89503",
   "metadata": {},
   "outputs": [],
   "source": [
    "lag_order_VECM = VAR_non_stationary.select_order(maxlags = 15, trend = 'c')"
   ]
  },
  {
   "cell_type": "code",
   "execution_count": null,
   "id": "81314208",
   "metadata": {
    "scrolled": false
   },
   "outputs": [],
   "source": [
    "print(lag_order_VECM.summary())"
   ]
  },
  {
   "cell_type": "markdown",
   "id": "de883e4b",
   "metadata": {},
   "source": [
    "### Тест Йохансена (порядок лага = 15)"
   ]
  },
  {
   "cell_type": "code",
   "execution_count": null,
   "id": "5f95e9fb",
   "metadata": {
    "scrolled": false
   },
   "outputs": [],
   "source": [
    "coint_rank = select_coint_rank(endog = final_dataset[['GDP', 'consumption']], det_order = 0, k_ar_diff = 15, method = 'maxeig')\n",
    "print(coint_rank.summary())"
   ]
  },
  {
   "cell_type": "code",
   "execution_count": null,
   "id": "20894599",
   "metadata": {},
   "outputs": [],
   "source": [
    "coint_rank.rank"
   ]
  },
  {
   "cell_type": "markdown",
   "id": "69faa4ab",
   "metadata": {},
   "source": [
    "#### ВЫВОД: \n",
    "#### Cогласно результатам теста Йохансена, принимается  Н(0) о наличии одного коинтеграционного соотношения. \n",
    "#### Гипотеза о нулевом ранге матрицы долгосрочных соотношений (П) отвергается, так как тестовая статистика больше критической: 71.46 > 14.26"
   ]
  },
  {
   "cell_type": "markdown",
   "id": "6eb0fd2f",
   "metadata": {},
   "source": [
    "### Оценка VECM-системы (порядок лага = 15, ранг коинтеграции = 1), анализ причинности в рамках VECM, уравнение долгосрочного соотношения"
   ]
  },
  {
   "cell_type": "code",
   "execution_count": null,
   "id": "eb6fa7e5",
   "metadata": {},
   "outputs": [],
   "source": [
    "vecm_12 = timeseries.VECM(endog = final_dataset[['GDP', 'consumption']], \n",
    "               exog = None, \n",
    "               k_ar_diff = 14### Тест Йохансена (порядок лага = 15), \n",
    "               coint_rank = 1).fit()"
   ]
  },
  {
   "cell_type": "code",
   "execution_count": null,
   "id": "f6ca40b4",
   "metadata": {
    "scrolled": false
   },
   "outputs": [],
   "source": [
    "print(vecm_12.summary())"
   ]
  },
  {
   "cell_type": "markdown",
   "id": "5c443640",
   "metadata": {},
   "source": [
    "### ВЫВОД: \n",
    "### Коэффициенты корректировки в *обоих уравнениях* VECM-модели для исходных временных рядов все же статистически значимы: р-значения принятия нулевых гипотез об их незначимости = 0. \n",
    "### А это означает, что причинность по Грейнджеру для *исходных временных рядов* все же ЕСТЬ, причем в оба направления. \n",
    "### Долгосрочное соотношение: GDP = 1.4402 * consumption"
   ]
  },
  {
   "cell_type": "markdown",
   "id": "575e5f12",
   "metadata": {},
   "source": [
    "<hr>"
   ]
  },
  {
   "cell_type": "markdown",
   "id": "f5c7ef9a",
   "metadata": {},
   "source": [
    "# Задача 8. Заключение по результатам проекта"
   ]
  },
  {
   "cell_type": "markdown",
   "id": "7d3e54c1",
   "metadata": {},
   "source": [
    "Результаты проведения проекта позволяют сделать следующие выводы в отношении поставленных гипотез: \n",
    "<br><br>**Гипотеза 1** о DS-харакетере рядов ВВП и потребления принимается: оба ряда действительно имеют первый порядок интегрируемости, что было подтверждено мощным тестом ADF-GLS \n",
    "<br><br>**Гипотеза 2** о возможности ECM и VECM, а также о наличии коинтеграционного соотношения и статистической значимости коэффициентов корректировки, подтверждается частично: все было предположено верно, кроме возможности построить линейную ЕСМ: данная модель не получилась из-за отсутствия коинтеграции по Инглу-Грейнджеру. Модель VECM была построена *вплоть до 15 лага,* оба коэффициента корректировки оказались статистически значимыми.  \n",
    "<br><br>**Гипотеза 3** о возможности построения модели ARIMA (p,d,q) подтверждается полностью: анализ PACF и ACF выявил значимые лаги (первого порядка), в итоге получилась модель ARIMA (1,1,1) для ряда потребления (то есть ARMA (1,1,) для *его первой разности*)\n",
    "<br><br>**Гипотеза 4** о наличии ARCH-эффекта в остатках модели ARIMA(1,1,1) отвергается: тест ARCH-LM по Инглу позволил принять нулевую гипотезу об отсутствии ARCH-эффекта"
   ]
  },
  {
   "cell_type": "code",
   "execution_count": null,
   "id": "micro-necessity",
   "metadata": {},
   "outputs": [],
   "source": []
  },
  {
   "cell_type": "code",
   "execution_count": null,
   "id": "aggressive-return",
   "metadata": {},
   "outputs": [],
   "source": []
  }
 ],
 "metadata": {
  "kernelspec": {
   "display_name": "Python 3 (ipykernel)",
   "language": "python",
   "name": "python3"
  },
  "language_info": {
   "codemirror_mode": {
    "name": "ipython",
    "version": 3
   },
   "file_extension": ".py",
   "mimetype": "text/x-python",
   "name": "python",
   "nbconvert_exporter": "python",
   "pygments_lexer": "ipython3",
   "version": "3.8.12"
  }
 },
 "nbformat": 4,
 "nbformat_minor": 5
}
